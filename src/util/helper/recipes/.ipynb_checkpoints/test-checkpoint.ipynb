{
 "cells": [
  {
   "cell_type": "code",
   "execution_count": 1,
   "metadata": {},
   "outputs": [
    {
     "data": {
      "application/vnd.jupyter.widget-view+json": {
       "model_id": "0f845023144a41eda29d130147fe1d55",
       "version_major": 2,
       "version_minor": 0
      },
      "text/plain": [
       "_ColormakerRegistry()"
      ]
     },
     "metadata": {},
     "output_type": "display_data"
    },
    {
     "data": {
      "application/3dmoljs_load.v0": "<div id=\"3dmolviewer_15943535810255694\"  style=\"position: relative; width: 640px; height: 480px\">\n        <p id=\"3dmolwarning_15943535810255694\" style=\"background-color:#ffcccc;color:black\">You appear to be running in JupyterLab (or JavaScript failed to load for some other reason).  You need to install the 3dmol extension: <br>\n        <tt>jupyter labextension install jupyterlab_3dmol</tt></p>\n        </div>\n<script>\n\nvar loadScriptAsync = function(uri){\n  return new Promise((resolve, reject) => {\n    var tag = document.createElement('script');\n    tag.src = uri;\n    tag.async = true;\n    tag.onload = () => {\n      resolve();\n    };\n  var firstScriptTag = document.getElementsByTagName('script')[0];\n  firstScriptTag.parentNode.insertBefore(tag, firstScriptTag);\n});\n};\n\nif(typeof $3Dmolpromise === 'undefined') {\n$3Dmolpromise = null;\n  $3Dmolpromise = loadScriptAsync('https://3dmol.csb.pitt.edu/build/3Dmol.js');\n}\n\nvar viewer_15943535810255694 = null;\nvar warn = document.getElementById(\"3dmolwarning_15943535810255694\");\nif(warn) {\n    warn.parentNode.removeChild(warn);\n}\n$3Dmolpromise.then(function() {\nviewer_15943535810255694 = $3Dmol.createViewer($(\"#3dmolviewer_15943535810255694\"),{backgroundColor:\"white\"});\n\tviewer_15943535810255694.addModel(\"@<TRIPOS>MOLECULE\\nRES\\n13 4 2 0 1\\nBIOPOLYMER\\nNO_CHARGES\\n@<TRIPOS>CRYSIN\\n    7.4970     6.0410     6.6830    90.0000    90.0000    90.0000  1  1\\n@<TRIPOS>ATOM\\n       1 C            0.0000     0.0000     0.0000 C             1 RES     \\n       2 O           -0.6270    -0.5510    -0.8920 O             1 RES     \\n       3 N            1.3560     0.0310     0.0490 N             1 RES     \\n       4 H            1.8700    -0.4270    -0.6920 H             1 RES     \\n       5 H            1.8650     0.4900     0.7910 H             1 RES     \\n       6 VS          -0.3591     0.3947     0.5648 VS            2 PRT     \\n       7 VS          -0.4608     0.4852     0.7113 VS            2 PRT     \\n       8 VS          -0.4728     0.2477     0.4403 VS            2 PRT     \\n       9 VS          -0.2319     0.2308     0.4814 VS            2 PRT     \\n      10 VS          -0.3590     0.2846     0.5647 VS            2 PRT     \\n      11 VS          -0.2574     0.1940     0.4182 VS            2 PRT     \\n      12 VS          -0.5155     0.4315     0.5019 VS            2 PRT     \\n      13 VS          -0.3926     0.4484     0.7131 VS            2 PRT     \\n@<TRIPOS>BOND\\n       1        3        1 1\\n       2        5        3 1\\n       3        4        3 1\\n       4        2        1 1\\n@<TRIPOS>SUBSTRUCTURE\\n       1 RES             1 RESIDUE    0 **** ROOT      0\\n       2 PRT             6 RESIDUE    0 **** ROOT      0\\n\",\"mol2\");\n\tviewer_15943535810255694.setStyle({\"stick\": {\"radius\": 0.2, \"color\": \"grey\"}, \"sphere\": {\"scale\": 0.3, \"colorscheme\": {}}});\n\tviewer_15943535810255694.zoomTo();\nviewer_15943535810255694.render();\n});\n</script>",
      "text/html": [
       "<div id=\"3dmolviewer_15943535810255694\"  style=\"position: relative; width: 640px; height: 480px\">\n",
       "        <p id=\"3dmolwarning_15943535810255694\" style=\"background-color:#ffcccc;color:black\">You appear to be running in JupyterLab (or JavaScript failed to load for some other reason).  You need to install the 3dmol extension: <br>\n",
       "        <tt>jupyter labextension install jupyterlab_3dmol</tt></p>\n",
       "        </div>\n",
       "<script>\n",
       "\n",
       "var loadScriptAsync = function(uri){\n",
       "  return new Promise((resolve, reject) => {\n",
       "    var tag = document.createElement('script');\n",
       "    tag.src = uri;\n",
       "    tag.async = true;\n",
       "    tag.onload = () => {\n",
       "      resolve();\n",
       "    };\n",
       "  var firstScriptTag = document.getElementsByTagName('script')[0];\n",
       "  firstScriptTag.parentNode.insertBefore(tag, firstScriptTag);\n",
       "});\n",
       "};\n",
       "\n",
       "if(typeof $3Dmolpromise === 'undefined') {\n",
       "$3Dmolpromise = null;\n",
       "  $3Dmolpromise = loadScriptAsync('https://3dmol.csb.pitt.edu/build/3Dmol.js');\n",
       "}\n",
       "\n",
       "var viewer_15943535810255694 = null;\n",
       "var warn = document.getElementById(\"3dmolwarning_15943535810255694\");\n",
       "if(warn) {\n",
       "    warn.parentNode.removeChild(warn);\n",
       "}\n",
       "$3Dmolpromise.then(function() {\n",
       "viewer_15943535810255694 = $3Dmol.createViewer($(\"#3dmolviewer_15943535810255694\"),{backgroundColor:\"white\"});\n",
       "\tviewer_15943535810255694.addModel(\"@<TRIPOS>MOLECULE\\nRES\\n13 4 2 0 1\\nBIOPOLYMER\\nNO_CHARGES\\n@<TRIPOS>CRYSIN\\n    7.4970     6.0410     6.6830    90.0000    90.0000    90.0000  1  1\\n@<TRIPOS>ATOM\\n       1 C            0.0000     0.0000     0.0000 C             1 RES     \\n       2 O           -0.6270    -0.5510    -0.8920 O             1 RES     \\n       3 N            1.3560     0.0310     0.0490 N             1 RES     \\n       4 H            1.8700    -0.4270    -0.6920 H             1 RES     \\n       5 H            1.8650     0.4900     0.7910 H             1 RES     \\n       6 VS          -0.3591     0.3947     0.5648 VS            2 PRT     \\n       7 VS          -0.4608     0.4852     0.7113 VS            2 PRT     \\n       8 VS          -0.4728     0.2477     0.4403 VS            2 PRT     \\n       9 VS          -0.2319     0.2308     0.4814 VS            2 PRT     \\n      10 VS          -0.3590     0.2846     0.5647 VS            2 PRT     \\n      11 VS          -0.2574     0.1940     0.4182 VS            2 PRT     \\n      12 VS          -0.5155     0.4315     0.5019 VS            2 PRT     \\n      13 VS          -0.3926     0.4484     0.7131 VS            2 PRT     \\n@<TRIPOS>BOND\\n       1        3        1 1\\n       2        5        3 1\\n       3        4        3 1\\n       4        2        1 1\\n@<TRIPOS>SUBSTRUCTURE\\n       1 RES             1 RESIDUE    0 **** ROOT      0\\n       2 PRT             6 RESIDUE    0 **** ROOT      0\\n\",\"mol2\");\n",
       "\tviewer_15943535810255694.setStyle({\"stick\": {\"radius\": 0.2, \"color\": \"grey\"}, \"sphere\": {\"scale\": 0.3, \"colorscheme\": {}}});\n",
       "\tviewer_15943535810255694.zoomTo();\n",
       "viewer_15943535810255694.render();\n",
       "});\n",
       "</script>"
      ]
     },
     "metadata": {},
     "output_type": "display_data"
    },
    {
     "data": {
      "text/plain": [
       "<py3Dmol.view at 0x7fbe8e891208>"
      ]
     },
     "execution_count": 1,
     "metadata": {},
     "output_type": "execute_result"
    }
   ],
   "source": [
    "import one_port as op\n",
    "import mbuild as mb\n",
    "op.Amide().visualize(show_ports=True)"
   ]
  },
  {
   "cell_type": "code",
   "execution_count": 3,
   "metadata": {},
   "outputs": [
    {
     "data": {
      "application/3dmoljs_load.v0": "<div id=\"3dmolviewer_15943456578022375\"  style=\"position: relative; width: 640px; height: 480px\">\n        <p id=\"3dmolwarning_15943456578022375\" style=\"background-color:#ffcccc;color:black\">You appear to be running in JupyterLab (or JavaScript failed to load for some other reason).  You need to install the 3dmol extension: <br>\n        <tt>jupyter labextension install jupyterlab_3dmol</tt></p>\n        </div>\n<script>\n\nvar loadScriptAsync = function(uri){\n  return new Promise((resolve, reject) => {\n    var tag = document.createElement('script');\n    tag.src = uri;\n    tag.async = true;\n    tag.onload = () => {\n      resolve();\n    };\n  var firstScriptTag = document.getElementsByTagName('script')[0];\n  firstScriptTag.parentNode.insertBefore(tag, firstScriptTag);\n});\n};\n\nif(typeof $3Dmolpromise === 'undefined') {\n$3Dmolpromise = null;\n  $3Dmolpromise = loadScriptAsync('https://3dmol.csb.pitt.edu/build/3Dmol.js');\n}\n\nvar viewer_15943456578022375 = null;\nvar warn = document.getElementById(\"3dmolwarning_15943456578022375\");\nif(warn) {\n    warn.parentNode.removeChild(warn);\n}\n$3Dmolpromise.then(function() {\nviewer_15943456578022375 = $3Dmol.createViewer($(\"#3dmolviewer_15943456578022375\"),{backgroundColor:\"white\"});\n\tviewer_15943456578022375.addModel(\"@<TRIPOS>MOLECULE\\nRES\\n2 1 1 0 1\\nSMALL\\nNO_CHARGES\\n@<TRIPOS>CRYSIN\\n    6.2159     5.0000     5.0000    90.0000    90.0000    90.0000  1  1\\n@<TRIPOS>ATOM\\n       1 N            0.9175    -0.0321    -0.0361 N             1 RES     \\n       2 O            2.1335    -0.0321    -0.0361 O             1 RES     \\n@<TRIPOS>BOND\\n       1        2        1 1\\n@<TRIPOS>SUBSTRUCTURE\\n       1 RES             1 RESIDUE    0 **** ROOT      0\\n\",\"mol2\");\n\tviewer_15943456578022375.setStyle({\"stick\": {\"radius\": 0.2, \"color\": \"grey\"}, \"sphere\": {\"scale\": 0.3, \"colorscheme\": {}}});\n\tviewer_15943456578022375.zoomTo();\nviewer_15943456578022375.render();\n});\n</script>",
      "text/html": [
       "<div id=\"3dmolviewer_15943456578022375\"  style=\"position: relative; width: 640px; height: 480px\">\n",
       "        <p id=\"3dmolwarning_15943456578022375\" style=\"background-color:#ffcccc;color:black\">You appear to be running in JupyterLab (or JavaScript failed to load for some other reason).  You need to install the 3dmol extension: <br>\n",
       "        <tt>jupyter labextension install jupyterlab_3dmol</tt></p>\n",
       "        </div>\n",
       "<script>\n",
       "\n",
       "var loadScriptAsync = function(uri){\n",
       "  return new Promise((resolve, reject) => {\n",
       "    var tag = document.createElement('script');\n",
       "    tag.src = uri;\n",
       "    tag.async = true;\n",
       "    tag.onload = () => {\n",
       "      resolve();\n",
       "    };\n",
       "  var firstScriptTag = document.getElementsByTagName('script')[0];\n",
       "  firstScriptTag.parentNode.insertBefore(tag, firstScriptTag);\n",
       "});\n",
       "};\n",
       "\n",
       "if(typeof $3Dmolpromise === 'undefined') {\n",
       "$3Dmolpromise = null;\n",
       "  $3Dmolpromise = loadScriptAsync('https://3dmol.csb.pitt.edu/build/3Dmol.js');\n",
       "}\n",
       "\n",
       "var viewer_15943456578022375 = null;\n",
       "var warn = document.getElementById(\"3dmolwarning_15943456578022375\");\n",
       "if(warn) {\n",
       "    warn.parentNode.removeChild(warn);\n",
       "}\n",
       "$3Dmolpromise.then(function() {\n",
       "viewer_15943456578022375 = $3Dmol.createViewer($(\"#3dmolviewer_15943456578022375\"),{backgroundColor:\"white\"});\n",
       "\tviewer_15943456578022375.addModel(\"@<TRIPOS>MOLECULE\\nRES\\n2 1 1 0 1\\nSMALL\\nNO_CHARGES\\n@<TRIPOS>CRYSIN\\n    6.2159     5.0000     5.0000    90.0000    90.0000    90.0000  1  1\\n@<TRIPOS>ATOM\\n       1 N            0.9175    -0.0321    -0.0361 N             1 RES     \\n       2 O            2.1335    -0.0321    -0.0361 O             1 RES     \\n@<TRIPOS>BOND\\n       1        2        1 1\\n@<TRIPOS>SUBSTRUCTURE\\n       1 RES             1 RESIDUE    0 **** ROOT      0\\n\",\"mol2\");\n",
       "\tviewer_15943456578022375.setStyle({\"stick\": {\"radius\": 0.2, \"color\": \"grey\"}, \"sphere\": {\"scale\": 0.3, \"colorscheme\": {}}});\n",
       "\tviewer_15943456578022375.zoomTo();\n",
       "viewer_15943456578022375.render();\n",
       "});\n",
       "</script>"
      ]
     },
     "metadata": {},
     "output_type": "display_data"
    },
    {
     "data": {
      "text/plain": [
       "<py3Dmol.view at 0x7f4afe59dcf8>"
      ]
     },
     "execution_count": 3,
     "metadata": {},
     "output_type": "execute_result"
    }
   ],
   "source": [
    "nitroso = mb.load(smiles['nitroso'], smiles=True)\n",
    "nitroso.visualize()"
   ]
  },
  {
   "cell_type": "code",
   "execution_count": null,
   "metadata": {},
   "outputs": [],
   "source": [
    "terminal_group_names = ['acetyl', 'amino', 'biphenyl', 'carboxyl', 'cyano',\n",
    "    'cyclopropyl', 'ethylene', 'fluorophenyl', 'formyl', 'hydroxyl', 'isopropyl',\n",
    "    'methoxy', 'methyl', 'nitro', 'nitrophenyl', 'pentafluorophenyl',\n",
    "    'perfluoromethyl', 'phenyl', 'pyrrole', 'triazole', 'difluoromethyl', 'phenol',\n",
    "    'toluene', 'benzoicacid', 'isopropylbenzene']\n",
    "for terminal_group_name in terminal_group_names:\n",
    "    filename = terminal_group_name + '.pdb'"
   ]
  },
  {
   "cell_type": "code",
   "execution_count": 1,
   "metadata": {},
   "outputs": [],
   "source": [
    "groups_fed_to_ML = {'acetyl',\n",
    " 'amino',\n",
    " 'carboxyl',\n",
    " 'cyano',\n",
    " 'cyclopropyl',\n",
    " 'difluoromethyl',\n",
    " 'ethylene',\n",
    " 'fluorophenyl',\n",
    " 'hydroxyl',\n",
    " 'isopropyl',\n",
    " 'methoxy',\n",
    " 'methyl',\n",
    " 'nitro',\n",
    " 'nitrophenyl',\n",
    " 'perfluoromethyl',\n",
    " 'phenol',\n",
    " 'phenyl',\n",
    " 'pyrrole',\n",
    " 'toluene'}"
   ]
  },
  {
   "cell_type": "code",
   "execution_count": null,
   "metadata": {},
   "outputs": [],
   "source": []
  }
 ],
 "metadata": {
  "kernelspec": {
   "display_name": "Python 3",
   "language": "python",
   "name": "python3"
  },
  "language_info": {
   "codemirror_mode": {
    "name": "ipython",
    "version": 3
   },
   "file_extension": ".py",
   "mimetype": "text/x-python",
   "name": "python",
   "nbconvert_exporter": "python",
   "pygments_lexer": "ipython3",
   "version": "3.6.10"
  }
 },
 "nbformat": 4,
 "nbformat_minor": 4
}
