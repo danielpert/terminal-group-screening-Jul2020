{
 "cells": [
  {
   "cell_type": "code",
   "execution_count": 1,
   "metadata": {},
   "outputs": [
    {
     "data": {
      "application/vnd.jupyter.widget-view+json": {
       "model_id": "6018d5660bfb477481dbaa67ae2df6bf",
       "version_major": 2,
       "version_minor": 0
      },
      "text/plain": [
       "_ColormakerRegistry()"
      ]
     },
     "metadata": {},
     "output_type": "display_data"
    },
    {
     "data": {
      "application/3dmoljs_load.v0": "<div id=\"3dmolviewer_15953057476639285\"  style=\"position: relative; width: 640px; height: 480px\">\n        <p id=\"3dmolwarning_15953057476639285\" style=\"background-color:#ffcccc;color:black\">You appear to be running in JupyterLab (or JavaScript failed to load for some other reason).  You need to install the 3dmol extension: <br>\n        <tt>jupyter labextension install jupyterlab_3dmol</tt></p>\n        </div>\n<script>\n\nvar loadScriptAsync = function(uri){\n  return new Promise((resolve, reject) => {\n    var tag = document.createElement('script');\n    tag.src = uri;\n    tag.async = true;\n    tag.onload = () => {\n      resolve();\n    };\n  var firstScriptTag = document.getElementsByTagName('script')[0];\n  firstScriptTag.parentNode.insertBefore(tag, firstScriptTag);\n});\n};\n\nif(typeof $3Dmolpromise === 'undefined') {\n$3Dmolpromise = null;\n  $3Dmolpromise = loadScriptAsync('https://3dmol.csb.pitt.edu/build/3Dmol.js');\n}\n\nvar viewer_15953057476639285 = null;\nvar warn = document.getElementById(\"3dmolwarning_15953057476639285\");\nif(warn) {\n    warn.parentNode.removeChild(warn);\n}\n$3Dmolpromise.then(function() {\nviewer_15953057476639285 = $3Dmol.createViewer($(\"#3dmolviewer_15953057476639285\"),{backgroundColor:\"white\"});\n\tviewer_15953057476639285.addModel(\"@<TRIPOS>MOLECULE\\nRES\\n11 2 2 0 1\\nBIOPOLYMER\\nNO_CHARGES\\n@<TRIPOS>CRYSIN\\n    7.2570     5.0000     5.0000    90.0000    90.0000    90.0000  1  1\\n@<TRIPOS>ATOM\\n       1 C            0.0000     0.0000     0.0000 C             1 RES     \\n       2 C            1.1920     0.0000     0.0000 C             1 RES     \\n       3 H            2.2570     0.0000     0.0000 H             1 RES     \\n       4 VS          -0.0500    -0.7600    -0.0250 VS            2 PRT     \\n       5 VS          -0.0500    -0.9600    -0.0250 VS            2 PRT     \\n       6 VS           0.1500    -0.6600    -0.0250 VS            2 PRT     \\n       7 VS          -0.0500    -0.5600     0.0750 VS            2 PRT     \\n       8 VS           0.0500    -0.7100    -0.0250 VS            2 PRT     \\n       9 VS           0.0500    -0.5100    -0.0250 VS            2 PRT     \\n      10 VS          -0.1500    -0.8100    -0.0250 VS            2 PRT     \\n      11 VS           0.0500    -0.9100     0.0750 VS            2 PRT     \\n@<TRIPOS>BOND\\n       1        3        2 1\\n       2        2        1 1\\n@<TRIPOS>SUBSTRUCTURE\\n       1 RES             1 RESIDUE    0 **** ROOT      0\\n       2 PRT             4 RESIDUE    0 **** ROOT      0\\n\",\"mol2\");\n\tviewer_15953057476639285.setStyle({\"stick\": {\"radius\": 0.2, \"color\": \"grey\"}, \"sphere\": {\"scale\": 0.3, \"colorscheme\": {}}});\n\tviewer_15953057476639285.zoomTo();\nviewer_15953057476639285.render();\n});\n</script>",
      "text/html": [
       "<div id=\"3dmolviewer_15953057476639285\"  style=\"position: relative; width: 640px; height: 480px\">\n",
       "        <p id=\"3dmolwarning_15953057476639285\" style=\"background-color:#ffcccc;color:black\">You appear to be running in JupyterLab (or JavaScript failed to load for some other reason).  You need to install the 3dmol extension: <br>\n",
       "        <tt>jupyter labextension install jupyterlab_3dmol</tt></p>\n",
       "        </div>\n",
       "<script>\n",
       "\n",
       "var loadScriptAsync = function(uri){\n",
       "  return new Promise((resolve, reject) => {\n",
       "    var tag = document.createElement('script');\n",
       "    tag.src = uri;\n",
       "    tag.async = true;\n",
       "    tag.onload = () => {\n",
       "      resolve();\n",
       "    };\n",
       "  var firstScriptTag = document.getElementsByTagName('script')[0];\n",
       "  firstScriptTag.parentNode.insertBefore(tag, firstScriptTag);\n",
       "});\n",
       "};\n",
       "\n",
       "if(typeof $3Dmolpromise === 'undefined') {\n",
       "$3Dmolpromise = null;\n",
       "  $3Dmolpromise = loadScriptAsync('https://3dmol.csb.pitt.edu/build/3Dmol.js');\n",
       "}\n",
       "\n",
       "var viewer_15953057476639285 = null;\n",
       "var warn = document.getElementById(\"3dmolwarning_15953057476639285\");\n",
       "if(warn) {\n",
       "    warn.parentNode.removeChild(warn);\n",
       "}\n",
       "$3Dmolpromise.then(function() {\n",
       "viewer_15953057476639285 = $3Dmol.createViewer($(\"#3dmolviewer_15953057476639285\"),{backgroundColor:\"white\"});\n",
       "\tviewer_15953057476639285.addModel(\"@<TRIPOS>MOLECULE\\nRES\\n11 2 2 0 1\\nBIOPOLYMER\\nNO_CHARGES\\n@<TRIPOS>CRYSIN\\n    7.2570     5.0000     5.0000    90.0000    90.0000    90.0000  1  1\\n@<TRIPOS>ATOM\\n       1 C            0.0000     0.0000     0.0000 C             1 RES     \\n       2 C            1.1920     0.0000     0.0000 C             1 RES     \\n       3 H            2.2570     0.0000     0.0000 H             1 RES     \\n       4 VS          -0.0500    -0.7600    -0.0250 VS            2 PRT     \\n       5 VS          -0.0500    -0.9600    -0.0250 VS            2 PRT     \\n       6 VS           0.1500    -0.6600    -0.0250 VS            2 PRT     \\n       7 VS          -0.0500    -0.5600     0.0750 VS            2 PRT     \\n       8 VS           0.0500    -0.7100    -0.0250 VS            2 PRT     \\n       9 VS           0.0500    -0.5100    -0.0250 VS            2 PRT     \\n      10 VS          -0.1500    -0.8100    -0.0250 VS            2 PRT     \\n      11 VS           0.0500    -0.9100     0.0750 VS            2 PRT     \\n@<TRIPOS>BOND\\n       1        3        2 1\\n       2        2        1 1\\n@<TRIPOS>SUBSTRUCTURE\\n       1 RES             1 RESIDUE    0 **** ROOT      0\\n       2 PRT             4 RESIDUE    0 **** ROOT      0\\n\",\"mol2\");\n",
       "\tviewer_15953057476639285.setStyle({\"stick\": {\"radius\": 0.2, \"color\": \"grey\"}, \"sphere\": {\"scale\": 0.3, \"colorscheme\": {}}});\n",
       "\tviewer_15953057476639285.zoomTo();\n",
       "viewer_15953057476639285.render();\n",
       "});\n",
       "</script>"
      ]
     },
     "metadata": {},
     "output_type": "display_data"
    },
    {
     "data": {
      "text/plain": [
       "<py3Dmol.view at 0x7f571498f5c0>"
      ]
     },
     "execution_count": 1,
     "metadata": {},
     "output_type": "execute_result"
    }
   ],
   "source": [
    "import one_port as op\n",
    "import mbuild as mb\n",
    "op.Acetylene().visualize(show_ports=True)"
   ]
  },
  {
   "cell_type": "code",
   "execution_count": 3,
   "metadata": {},
   "outputs": [
    {
     "data": {
      "application/3dmoljs_load.v0": "<div id=\"3dmolviewer_15943456578022375\"  style=\"position: relative; width: 640px; height: 480px\">\n        <p id=\"3dmolwarning_15943456578022375\" style=\"background-color:#ffcccc;color:black\">You appear to be running in JupyterLab (or JavaScript failed to load for some other reason).  You need to install the 3dmol extension: <br>\n        <tt>jupyter labextension install jupyterlab_3dmol</tt></p>\n        </div>\n<script>\n\nvar loadScriptAsync = function(uri){\n  return new Promise((resolve, reject) => {\n    var tag = document.createElement('script');\n    tag.src = uri;\n    tag.async = true;\n    tag.onload = () => {\n      resolve();\n    };\n  var firstScriptTag = document.getElementsByTagName('script')[0];\n  firstScriptTag.parentNode.insertBefore(tag, firstScriptTag);\n});\n};\n\nif(typeof $3Dmolpromise === 'undefined') {\n$3Dmolpromise = null;\n  $3Dmolpromise = loadScriptAsync('https://3dmol.csb.pitt.edu/build/3Dmol.js');\n}\n\nvar viewer_15943456578022375 = null;\nvar warn = document.getElementById(\"3dmolwarning_15943456578022375\");\nif(warn) {\n    warn.parentNode.removeChild(warn);\n}\n$3Dmolpromise.then(function() {\nviewer_15943456578022375 = $3Dmol.createViewer($(\"#3dmolviewer_15943456578022375\"),{backgroundColor:\"white\"});\n\tviewer_15943456578022375.addModel(\"@<TRIPOS>MOLECULE\\nRES\\n2 1 1 0 1\\nSMALL\\nNO_CHARGES\\n@<TRIPOS>CRYSIN\\n    6.2159     5.0000     5.0000    90.0000    90.0000    90.0000  1  1\\n@<TRIPOS>ATOM\\n       1 N            0.9175    -0.0321    -0.0361 N             1 RES     \\n       2 O            2.1335    -0.0321    -0.0361 O             1 RES     \\n@<TRIPOS>BOND\\n       1        2        1 1\\n@<TRIPOS>SUBSTRUCTURE\\n       1 RES             1 RESIDUE    0 **** ROOT      0\\n\",\"mol2\");\n\tviewer_15943456578022375.setStyle({\"stick\": {\"radius\": 0.2, \"color\": \"grey\"}, \"sphere\": {\"scale\": 0.3, \"colorscheme\": {}}});\n\tviewer_15943456578022375.zoomTo();\nviewer_15943456578022375.render();\n});\n</script>",
      "text/html": [
       "<div id=\"3dmolviewer_15943456578022375\"  style=\"position: relative; width: 640px; height: 480px\">\n",
       "        <p id=\"3dmolwarning_15943456578022375\" style=\"background-color:#ffcccc;color:black\">You appear to be running in JupyterLab (or JavaScript failed to load for some other reason).  You need to install the 3dmol extension: <br>\n",
       "        <tt>jupyter labextension install jupyterlab_3dmol</tt></p>\n",
       "        </div>\n",
       "<script>\n",
       "\n",
       "var loadScriptAsync = function(uri){\n",
       "  return new Promise((resolve, reject) => {\n",
       "    var tag = document.createElement('script');\n",
       "    tag.src = uri;\n",
       "    tag.async = true;\n",
       "    tag.onload = () => {\n",
       "      resolve();\n",
       "    };\n",
       "  var firstScriptTag = document.getElementsByTagName('script')[0];\n",
       "  firstScriptTag.parentNode.insertBefore(tag, firstScriptTag);\n",
       "});\n",
       "};\n",
       "\n",
       "if(typeof $3Dmolpromise === 'undefined') {\n",
       "$3Dmolpromise = null;\n",
       "  $3Dmolpromise = loadScriptAsync('https://3dmol.csb.pitt.edu/build/3Dmol.js');\n",
       "}\n",
       "\n",
       "var viewer_15943456578022375 = null;\n",
       "var warn = document.getElementById(\"3dmolwarning_15943456578022375\");\n",
       "if(warn) {\n",
       "    warn.parentNode.removeChild(warn);\n",
       "}\n",
       "$3Dmolpromise.then(function() {\n",
       "viewer_15943456578022375 = $3Dmol.createViewer($(\"#3dmolviewer_15943456578022375\"),{backgroundColor:\"white\"});\n",
       "\tviewer_15943456578022375.addModel(\"@<TRIPOS>MOLECULE\\nRES\\n2 1 1 0 1\\nSMALL\\nNO_CHARGES\\n@<TRIPOS>CRYSIN\\n    6.2159     5.0000     5.0000    90.0000    90.0000    90.0000  1  1\\n@<TRIPOS>ATOM\\n       1 N            0.9175    -0.0321    -0.0361 N             1 RES     \\n       2 O            2.1335    -0.0321    -0.0361 O             1 RES     \\n@<TRIPOS>BOND\\n       1        2        1 1\\n@<TRIPOS>SUBSTRUCTURE\\n       1 RES             1 RESIDUE    0 **** ROOT      0\\n\",\"mol2\");\n",
       "\tviewer_15943456578022375.setStyle({\"stick\": {\"radius\": 0.2, \"color\": \"grey\"}, \"sphere\": {\"scale\": 0.3, \"colorscheme\": {}}});\n",
       "\tviewer_15943456578022375.zoomTo();\n",
       "viewer_15943456578022375.render();\n",
       "});\n",
       "</script>"
      ]
     },
     "metadata": {},
     "output_type": "display_data"
    },
    {
     "data": {
      "text/plain": [
       "<py3Dmol.view at 0x7f4afe59dcf8>"
      ]
     },
     "execution_count": 3,
     "metadata": {},
     "output_type": "execute_result"
    }
   ],
   "source": [
    "nitroso = mb.load(smiles['nitroso'], smiles=True)\n",
    "nitroso.visualize()"
   ]
  },
  {
   "cell_type": "code",
   "execution_count": null,
   "metadata": {},
   "outputs": [],
   "source": [
    "terminal_group_names = ['acetyl', 'amino', 'biphenyl', 'carboxyl', 'cyano',\n",
    "    'cyclopropyl', 'ethylene', 'fluorophenyl', 'formyl', 'hydroxyl', 'isopropyl',\n",
    "    'methoxy', 'methyl', 'nitro', 'nitrophenyl', 'pentafluorophenyl',\n",
    "    'perfluoromethyl', 'phenyl', 'pyrrole', 'triazole', 'difluoromethyl', 'phenol',\n",
    "    'toluene', 'benzoicacid', 'isopropylbenzene']\n",
    "for terminal_group_name in terminal_group_names:\n",
    "    filename = terminal_group_name + '.pdb'"
   ]
  },
  {
   "cell_type": "code",
   "execution_count": 1,
   "metadata": {},
   "outputs": [],
   "source": [
    "groups_fed_to_ML = {'acetyl',\n",
    " 'amino',\n",
    " 'carboxyl',\n",
    " 'cyano',\n",
    " 'cyclopropyl',\n",
    " 'difluoromethyl',\n",
    " 'ethylene',\n",
    " 'fluorophenyl',\n",
    " 'hydroxyl',\n",
    " 'isopropyl',\n",
    " 'methoxy',\n",
    " 'methyl',\n",
    " 'nitro',\n",
    " 'nitrophenyl',\n",
    " 'perfluoromethyl',\n",
    " 'phenol',\n",
    " 'phenyl',\n",
    " 'pyrrole',\n",
    " 'toluene'}"
   ]
  },
  {
   "cell_type": "code",
   "execution_count": 2,
   "metadata": {},
   "outputs": [
    {
     "data": {
      "text/plain": [
       "19"
      ]
     },
     "execution_count": 2,
     "metadata": {},
     "output_type": "execute_result"
    }
   ],
   "source": [
    "len(groups_fed_to_ML)"
   ]
  },
  {
   "cell_type": "code",
   "execution_count": null,
   "metadata": {},
   "outputs": [],
   "source": []
  }
 ],
 "metadata": {
  "kernelspec": {
   "display_name": "Python 3",
   "language": "python",
   "name": "python3"
  },
  "language_info": {
   "codemirror_mode": {
    "name": "ipython",
    "version": 3
   },
   "file_extension": ".py",
   "mimetype": "text/x-python",
   "name": "python",
   "nbconvert_exporter": "python",
   "pygments_lexer": "ipython3",
   "version": "3.6.10"
  }
 },
 "nbformat": 4,
 "nbformat_minor": 4
}
