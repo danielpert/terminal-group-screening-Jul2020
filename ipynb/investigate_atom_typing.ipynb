{
 "cells": [
  {
   "cell_type": "code",
   "execution_count": 1,
   "metadata": {},
   "outputs": [
    {
     "data": {
      "application/vnd.jupyter.widget-view+json": {
       "model_id": "7874392b49844153bed6f86b40abee06",
       "version_major": 2,
       "version_minor": 0
      },
      "text/plain": [
       "_ColormakerRegistry()"
      ]
     },
     "metadata": {},
     "output_type": "display_data"
    }
   ],
   "source": [
    "'''\n",
    "Build alkylsilane chains with the new terminal groups and atom type them to\n",
    "figure out which atom types need to be added to the oplsaa.xml force field\n",
    "file. The new terminal groups are:\n",
    "* amide\n",
    "* biphenyl\n",
    "** cyclohexyl\n",
    "* dihydroxyphenyl\n",
    "* formyl\n",
    "// nitroso\n",
    "* pentafluorophenyl\n",
    "* sulfhydryl\n",
    "* triazole\n",
    "* benzoic acid\n",
    "* isopropylbenzene\n",
    "// acetylene\n",
    "** = implemented in terminal-group-screening-Jul2020\n",
    "// = not available in OPLS AA force field\n",
    "'''\n",
    "import signac\n",
    "import os\n",
    "import mbuild as mb\n",
    "from mbuild.lib.atoms import H\n",
    "from mbuild.formats.lammpsdata import write_lammpsdata\n",
    "import foyer\n",
    "import pathlib\n",
    "import rdkit\n",
    "from rdkit import Chem\n",
    "from util.helper.recipes import Alkylsilane\n",
    "from util.helper.functions import system_builder\n",
    "from util.helper.recipes import one_port as op"
   ]
  },
  {
   "cell_type": "code",
   "execution_count": 2,
   "metadata": {},
   "outputs": [
    {
     "name": "stderr",
     "output_type": "stream",
     "text": [
      "/root/miniconda3/envs/simulation36/lib/python3.6/site-packages/foyer/validator.py:132: ValidationWarning: You have empty smart definition(s)\n",
      "  warn(\"You have empty smart definition(s)\", ValidationWarning)\n"
     ]
    }
   ],
   "source": [
    "# change int project root directory\n",
    "project = signac.get_project()\n",
    "p = pathlib.Path(project.root_directory())\n",
    "os.chdir(str(p.absolute()))\n",
    "# find the force field\n",
    "forcefield_filepath = pathlib.Path(\"./src/util/forcefield/oplsaa.xml\")\n",
    "ff = foyer.Forcefield(forcefield_files=forcefield_filepath.as_posix())"
   ]
  },
  {
   "cell_type": "code",
   "execution_count": 3,
   "metadata": {
    "scrolled": true
   },
   "outputs": [
    {
     "ename": "FoyerError",
     "evalue": "Found multiple types for atom 46 (hydrogen): ['opls_1016', 'opls_140'].",
     "output_type": "error",
     "traceback": [
      "\u001b[0;31m---------------------------------------------------------------------------\u001b[0m",
      "\u001b[0;31mFoyerError\u001b[0m                                Traceback (most recent call last)",
      "\u001b[0;32m<ipython-input-3-7719fe87472e>\u001b[0m in \u001b[0;36m<module>\u001b[0;34m\u001b[0m\n\u001b[1;32m      6\u001b[0m \u001b[0;31m# chain_prototype.add(hydrogen_downcap, 'hydrogen_downcap')\u001b[0m\u001b[0;34m\u001b[0m\u001b[0;34m\u001b[0m\u001b[0;34m\u001b[0m\u001b[0m\n\u001b[1;32m      7\u001b[0m \u001b[0;31m# mb.force_overlap(hydrogen_downcap, hydrogen_downcap['up'], chain_prototype['silane']['down'])\u001b[0m\u001b[0;34m\u001b[0m\u001b[0;34m\u001b[0m\u001b[0;34m\u001b[0m\u001b[0m\n\u001b[0;32m----> 8\u001b[0;31m \u001b[0mchain_prototype\u001b[0m\u001b[0;34m=\u001b[0m\u001b[0mff\u001b[0m\u001b[0;34m.\u001b[0m\u001b[0mapply\u001b[0m\u001b[0;34m(\u001b[0m\u001b[0mchain_prototype\u001b[0m\u001b[0;34m,\u001b[0m \u001b[0massert_angle_params\u001b[0m\u001b[0;34m=\u001b[0m\u001b[0;32mFalse\u001b[0m\u001b[0;34m,\u001b[0m \u001b[0mverbose\u001b[0m\u001b[0;34m=\u001b[0m\u001b[0;32mTrue\u001b[0m\u001b[0;34m,\u001b[0m \u001b[0massert_dihedral_params\u001b[0m\u001b[0;34m=\u001b[0m\u001b[0;32mFalse\u001b[0m\u001b[0;34m,\u001b[0m \u001b[0massert_bond_params\u001b[0m\u001b[0;34m=\u001b[0m\u001b[0;32mFalse\u001b[0m\u001b[0;34m)\u001b[0m\u001b[0;34m\u001b[0m\u001b[0;34m\u001b[0m\u001b[0m\n\u001b[0m\u001b[1;32m      9\u001b[0m \u001b[0;31m# chain_prototype[44].name = \"B\"\u001b[0m\u001b[0;34m\u001b[0m\u001b[0;34m\u001b[0m\u001b[0;34m\u001b[0m\u001b[0m\n\u001b[1;32m     10\u001b[0m \u001b[0;31m# chain_prototype[42].name = \"B\"\u001b[0m\u001b[0;34m\u001b[0m\u001b[0;34m\u001b[0m\u001b[0;34m\u001b[0m\u001b[0m\n",
      "\u001b[0;32m~/miniconda3/envs/simulation36/lib/python3.6/site-packages/foyer/forcefield.py\u001b[0m in \u001b[0;36mapply\u001b[0;34m(self, topology, references_file, use_residue_map, assert_bond_params, assert_angle_params, assert_dihedral_params, assert_improper_params, combining_rule, verbose, *args, **kwargs)\u001b[0m\n\u001b[1;32m    491\u001b[0m         \u001b[0mtopology\u001b[0m\u001b[0;34m,\u001b[0m \u001b[0mpositions\u001b[0m \u001b[0;34m=\u001b[0m \u001b[0mself\u001b[0m\u001b[0;34m.\u001b[0m\u001b[0m_prepare_topology\u001b[0m\u001b[0;34m(\u001b[0m\u001b[0mtopology\u001b[0m\u001b[0;34m,\u001b[0m \u001b[0;34m**\u001b[0m\u001b[0mkwargs\u001b[0m\u001b[0;34m)\u001b[0m\u001b[0;34m\u001b[0m\u001b[0;34m\u001b[0m\u001b[0m\n\u001b[1;32m    492\u001b[0m \u001b[0;34m\u001b[0m\u001b[0m\n\u001b[0;32m--> 493\u001b[0;31m         \u001b[0mtypemap\u001b[0m \u001b[0;34m=\u001b[0m \u001b[0mself\u001b[0m\u001b[0;34m.\u001b[0m\u001b[0mrun_atomtyping\u001b[0m\u001b[0;34m(\u001b[0m\u001b[0mtopology\u001b[0m\u001b[0;34m,\u001b[0m \u001b[0muse_residue_map\u001b[0m\u001b[0;34m=\u001b[0m\u001b[0muse_residue_map\u001b[0m\u001b[0;34m)\u001b[0m\u001b[0;34m\u001b[0m\u001b[0;34m\u001b[0m\u001b[0m\n\u001b[0m\u001b[1;32m    494\u001b[0m \u001b[0;34m\u001b[0m\u001b[0m\n\u001b[1;32m    495\u001b[0m         \u001b[0mself\u001b[0m\u001b[0;34m.\u001b[0m\u001b[0m_apply_typemap\u001b[0m\u001b[0;34m(\u001b[0m\u001b[0mtopology\u001b[0m\u001b[0;34m,\u001b[0m \u001b[0mtypemap\u001b[0m\u001b[0;34m)\u001b[0m\u001b[0;34m\u001b[0m\u001b[0;34m\u001b[0m\u001b[0m\n",
      "\u001b[0;32m~/miniconda3/envs/simulation36/lib/python3.6/site-packages/foyer/forcefield.py\u001b[0m in \u001b[0;36mrun_atomtyping\u001b[0;34m(self, topology, use_residue_map)\u001b[0m\n\u001b[1;32m    527\u001b[0m                     \u001b[0;32mif\u001b[0m \u001b[0mres\u001b[0m\u001b[0;34m.\u001b[0m\u001b[0mname\u001b[0m \u001b[0;32mnot\u001b[0m \u001b[0;32min\u001b[0m \u001b[0mresidue_map\u001b[0m\u001b[0;34m.\u001b[0m\u001b[0mkeys\u001b[0m\u001b[0;34m(\u001b[0m\u001b[0;34m)\u001b[0m\u001b[0;34m:\u001b[0m\u001b[0;34m\u001b[0m\u001b[0;34m\u001b[0m\u001b[0m\n\u001b[1;32m    528\u001b[0m                         \u001b[0mresidue\u001b[0m \u001b[0;34m=\u001b[0m \u001b[0m_topology_from_residue\u001b[0m\u001b[0;34m(\u001b[0m\u001b[0mres\u001b[0m\u001b[0;34m)\u001b[0m\u001b[0;34m\u001b[0m\u001b[0;34m\u001b[0m\u001b[0m\n\u001b[0;32m--> 529\u001b[0;31m                         \u001b[0mtypemap\u001b[0m \u001b[0;34m=\u001b[0m \u001b[0mfind_atomtypes\u001b[0m\u001b[0;34m(\u001b[0m\u001b[0mresidue\u001b[0m\u001b[0;34m,\u001b[0m \u001b[0mforcefield\u001b[0m\u001b[0;34m=\u001b[0m\u001b[0mself\u001b[0m\u001b[0;34m)\u001b[0m\u001b[0;34m\u001b[0m\u001b[0;34m\u001b[0m\u001b[0m\n\u001b[0m\u001b[1;32m    530\u001b[0m                         \u001b[0mresidue_map\u001b[0m\u001b[0;34m[\u001b[0m\u001b[0mres\u001b[0m\u001b[0;34m.\u001b[0m\u001b[0mname\u001b[0m\u001b[0;34m]\u001b[0m \u001b[0;34m=\u001b[0m \u001b[0mtypemap\u001b[0m\u001b[0;34m\u001b[0m\u001b[0;34m\u001b[0m\u001b[0m\n\u001b[1;32m    531\u001b[0m \u001b[0;34m\u001b[0m\u001b[0m\n",
      "\u001b[0;32m~/miniconda3/envs/simulation36/lib/python3.6/site-packages/foyer/atomtyper.py\u001b[0m in \u001b[0;36mfind_atomtypes\u001b[0;34m(topology, forcefield, max_iter)\u001b[0m\n\u001b[1;32m     45\u001b[0m \u001b[0;34m\u001b[0m\u001b[0m\n\u001b[1;32m     46\u001b[0m     \u001b[0m_iterate_rules\u001b[0m\u001b[0;34m(\u001b[0m\u001b[0mrules\u001b[0m\u001b[0;34m,\u001b[0m \u001b[0mtopology\u001b[0m\u001b[0;34m,\u001b[0m \u001b[0mtypemap\u001b[0m\u001b[0;34m,\u001b[0m \u001b[0mmax_iter\u001b[0m\u001b[0;34m=\u001b[0m\u001b[0mmax_iter\u001b[0m\u001b[0;34m)\u001b[0m\u001b[0;34m\u001b[0m\u001b[0;34m\u001b[0m\u001b[0m\n\u001b[0;32m---> 47\u001b[0;31m     \u001b[0m_resolve_atomtypes\u001b[0m\u001b[0;34m(\u001b[0m\u001b[0mtopology\u001b[0m\u001b[0;34m,\u001b[0m \u001b[0mtypemap\u001b[0m\u001b[0;34m)\u001b[0m\u001b[0;34m\u001b[0m\u001b[0;34m\u001b[0m\u001b[0m\n\u001b[0m\u001b[1;32m     48\u001b[0m \u001b[0;34m\u001b[0m\u001b[0m\n\u001b[1;32m     49\u001b[0m     \u001b[0;32mreturn\u001b[0m \u001b[0mtypemap\u001b[0m\u001b[0;34m\u001b[0m\u001b[0;34m\u001b[0m\u001b[0m\n",
      "\u001b[0;32m~/miniconda3/envs/simulation36/lib/python3.6/site-packages/foyer/atomtyper.py\u001b[0m in \u001b[0;36m_resolve_atomtypes\u001b[0;34m(topology, typemap)\u001b[0m\n\u001b[1;32m    114\u001b[0m         \u001b[0;32melif\u001b[0m \u001b[0mlen\u001b[0m\u001b[0;34m(\u001b[0m\u001b[0matomtype\u001b[0m\u001b[0;34m)\u001b[0m \u001b[0;34m>\u001b[0m \u001b[0;36m1\u001b[0m\u001b[0;34m:\u001b[0m\u001b[0;34m\u001b[0m\u001b[0;34m\u001b[0m\u001b[0m\n\u001b[1;32m    115\u001b[0m             raise FoyerError(\"Found multiple types for atom {} ({}): {}.\".format(\n\u001b[0;32m--> 116\u001b[0;31m                 atom_id, atoms[atom_id].element.name, atomtype))\n\u001b[0m\u001b[1;32m    117\u001b[0m         \u001b[0;32melse\u001b[0m\u001b[0;34m:\u001b[0m\u001b[0;34m\u001b[0m\u001b[0;34m\u001b[0m\u001b[0m\n\u001b[1;32m    118\u001b[0m             raise FoyerError(\"Found no types for atom {} ({}).\".format(\n",
      "\u001b[0;31mFoyerError\u001b[0m: Found multiple types for atom 46 (hydrogen): ['opls_1016', 'opls_140']."
     ]
    }
   ],
   "source": [
    "# create alkylsilane chain w/ terminal group\n",
    "chain_prototype = Alkylsilane(chain_length=17, terminal_group='nitroso')\n",
    "for i in range(5):\n",
    "    chain_prototype.remove(chain_prototype[-1])\n",
    "# hydrogen_downcap = H()\n",
    "# chain_prototype.add(hydrogen_downcap, 'hydrogen_downcap')\n",
    "# mb.force_overlap(hydrogen_downcap, hydrogen_downcap['up'], chain_prototype['silane']['down'])\n",
    "chain_prototype=ff.apply(chain_prototype, assert_angle_params=False, verbose=True, assert_dihedral_params=False, assert_bond_params=False)\n",
    "# chain_prototype[44].name = \"B\"\n",
    "# chain_prototype[42].name = \"B\"\n",
    "# chain_prototype[45].name = \"B\"\n",
    "# chain_prototype[47].name = \"B\"\n",
    "chain_prototype_mb = mb.load(chain_prototype)\n",
    "chain_prototype_mb.visualize()"
   ]
  },
  {
   "cell_type": "code",
   "execution_count": 4,
   "metadata": {},
   "outputs": [
    {
     "name": "stdout",
     "output_type": "stream",
     "text": [
      "No urey bradley terms detected, will use angle_style harmonic\n",
      "RB Torsions detected, will use dihedral_style opls\n"
     ]
    },
    {
     "name": "stderr",
     "output_type": "stream",
     "text": [
      "/root/miniconda3/envs/simulation36/lib/python3.6/site-packages/mbuild/formats/lammpsdata.py:170: UserWarning: Explicit box bounds (i.e., mins and maxs) were not provided. Box bounds are assumed to be min = 0 and max = length in each direction. This may not produce a system with the expected spatial location and may cause non-periodic systems to fail. Bounds can be defined explicitly by passing the them to the write_lammpsdata function or by passing box info to the save function.\n",
      "  warn('Explicit box bounds (i.e., mins and maxs) were not provided. Box bounds are assumed to be min = 0 and max = length in each direction. This may not produce a system with the expected spatial location and may cause non-periodic systems to fail. Bounds can be defined explicitly by passing the them to the write_lammpsdata function or by passing box info to the save function.')\n"
     ]
    }
   ],
   "source": [
    "# atom type the alkylsilane chain\n",
    "chain_prototype.save('ipynb/chain_prototype.top', overwrite=True)\n",
    "write_lammpsdata(filename='ipynb/chain_prototype.lammps', structure=chain_prototype, use_dihedrals=False)"
   ]
  },
  {
   "cell_type": "code",
   "execution_count": 9,
   "metadata": {},
   "outputs": [
    {
     "data": {
      "application/3dmoljs_load.v0": "<div id=\"3dmolviewer_15952743839131415\"  style=\"position: relative; width: 640px; height: 480px\">\n        <p id=\"3dmolwarning_15952743839131415\" style=\"background-color:#ffcccc;color:black\">You appear to be running in JupyterLab (or JavaScript failed to load for some other reason).  You need to install the 3dmol extension: <br>\n        <tt>jupyter labextension install jupyterlab_3dmol</tt></p>\n        </div>\n<script>\n\nvar loadScriptAsync = function(uri){\n  return new Promise((resolve, reject) => {\n    var tag = document.createElement('script');\n    tag.src = uri;\n    tag.async = true;\n    tag.onload = () => {\n      resolve();\n    };\n  var firstScriptTag = document.getElementsByTagName('script')[0];\n  firstScriptTag.parentNode.insertBefore(tag, firstScriptTag);\n});\n};\n\nif(typeof $3Dmolpromise === 'undefined') {\n$3Dmolpromise = null;\n  $3Dmolpromise = loadScriptAsync('https://3dmol.csb.pitt.edu/build/3Dmol.js');\n}\n\nvar viewer_15952743839131415 = null;\nvar warn = document.getElementById(\"3dmolwarning_15952743839131415\");\nif(warn) {\n    warn.parentNode.removeChild(warn);\n}\n$3Dmolpromise.then(function() {\nviewer_15952743839131415 = $3Dmol.createViewer($(\"#3dmolviewer_15952743839131415\"),{backgroundColor:\"white\"});\n\tviewer_15952743839131415.addModel(\"@<TRIPOS>MOLECULE\\nRES\\n89 48 11 0 1\\nBIOPOLYMER\\nNO_CHARGES\\n@<TRIPOS>CRYSIN\\n    7.3160    28.8400     5.0000    90.0000    90.0000    90.0000  1  1\\n@<TRIPOS>ATOM\\n       1 C           -0.0000   -23.8400    -0.0000 C             1 RES     \\n       2 H           -1.1000   -23.8400    -0.0000 H             1 RES     \\n       3 H            1.1000   -23.8400    -0.0000 H             1 RES     \\n       4 VS          -0.0500   -24.5650    -0.0250 VS            2 PRT     \\n       5 VS          -0.0500   -24.7650    -0.0250 VS            2 PRT     \\n       6 VS           0.1500   -24.4650    -0.0250 VS            2 PRT     \\n       7 VS          -0.0500   -24.3650     0.0750 VS            2 PRT     \\n       8 VS           0.0500   -24.5150    -0.0250 VS            2 PRT     \\n       9 VS           0.0500   -24.3150    -0.0250 VS            2 PRT     \\n      10 VS          -0.1500   -24.6150    -0.0250 VS            2 PRT     \\n      11 VS           0.0500   -24.7150     0.0750 VS            2 PRT     \\n      12 C           -0.0000   -22.4400    -0.0000 C             3 RES     \\n      13 H           -1.1000   -22.4400    -0.0000 H             3 RES     \\n      14 H            1.1000   -22.4400    -0.0000 H             3 RES     \\n      15 C           -0.0000   -21.0400    -0.0000 C             3 RES     \\n      16 H           -1.1000   -21.0400    -0.0000 H             3 RES     \\n      17 H            1.1000   -21.0400    -0.0000 H             3 RES     \\n      18 C           -0.0000   -19.6400    -0.0000 C             3 RES     \\n      19 H           -1.1000   -19.6400    -0.0000 H             3 RES     \\n      20 H            1.1000   -19.6400    -0.0000 H             3 RES     \\n      21 C           -0.0000   -18.2400    -0.0000 C             3 RES     \\n      22 H           -1.1000   -18.2400    -0.0000 H             3 RES     \\n      23 H            1.1000   -18.2400    -0.0000 H             3 RES     \\n      24 C           -0.0000   -16.8400    -0.0000 C             3 RES     \\n      25 H           -1.1000   -16.8400    -0.0000 H             3 RES     \\n      26 H            1.1000   -16.8400    -0.0000 H             3 RES     \\n      27 C           -0.0000   -15.4400    -0.0000 C             3 RES     \\n      28 H           -1.1000   -15.4400    -0.0000 H             3 RES     \\n      29 H            1.1000   -15.4400    -0.0000 H             3 RES     \\n      30 C           -0.0000   -14.0400    -0.0000 C             3 RES     \\n      31 H           -1.1000   -14.0400    -0.0000 H             3 RES     \\n      32 H            1.1000   -14.0400    -0.0000 H             3 RES     \\n      33 C           -0.0000   -12.6400    -0.0000 C             3 RES     \\n      34 H           -1.1000   -12.6400    -0.0000 H             3 RES     \\n      35 H            1.1000   -12.6400    -0.0000 H             3 RES     \\n      36 C           -0.0000   -11.2400    -0.0000 C             3 RES     \\n      37 H           -1.1000   -11.2400    -0.0000 H             3 RES     \\n      38 H            1.1000   -11.2400    -0.0000 H             3 RES     \\n      39 C           -0.0000    -9.8400    -0.0000 C             3 RES     \\n      40 H           -1.1000    -9.8400    -0.0000 H             3 RES     \\n      41 H            1.1000    -9.8400    -0.0000 H             3 RES     \\n      42 C           -0.0000    -8.4400    -0.0000 C             3 RES     \\n      43 H           -1.1000    -8.4400    -0.0000 H             3 RES     \\n      44 H            1.1000    -8.4400    -0.0000 H             3 RES     \\n      45 C           -0.0000    -7.0400    -0.0000 C             3 RES     \\n      46 H           -1.1000    -7.0400    -0.0000 H             3 RES     \\n      47 H            1.1000    -7.0400    -0.0000 H             3 RES     \\n      48 C           -0.0000    -5.6400    -0.0000 C             3 RES     \\n      49 H           -1.1000    -5.6400    -0.0000 H             3 RES     \\n      50 VS           0.5750    -5.6900    -0.0250 VS            4 PRT     \\n      51 VS           0.7750    -5.6900    -0.0250 VS            4 PRT     \\n      52 VS           0.4750    -5.4900    -0.0250 VS            4 PRT     \\n      53 VS           0.3750    -5.6900     0.0750 VS            4 PRT     \\n      54 VS           0.5250    -5.5900    -0.0250 VS            4 PRT     \\n      55 VS           0.3250    -5.5900    -0.0250 VS            4 PRT     \\n      56 VS           0.6250    -5.7900    -0.0250 VS            4 PRT     \\n      57 VS           0.7250    -5.5900     0.0750 VS            4 PRT     \\n      58 C           -0.0000    -4.2400    -0.0000 C             5 RES     \\n      59 H            1.1000    -4.2400    -0.0000 H             5 RES     \\n      60 VS          -0.5750    -4.1900    -0.0250 VS            6 PRT     \\n      61 VS          -0.7750    -4.1900    -0.0250 VS            6 PRT     \\n      62 VS          -0.4750    -4.3900    -0.0250 VS            6 PRT     \\n      63 VS          -0.3750    -4.1900     0.0750 VS            6 PRT     \\n      64 VS          -0.5250    -4.2900    -0.0250 VS            6 PRT     \\n      65 VS          -0.3250    -4.2900    -0.0250 VS            6 PRT     \\n      66 VS          -0.6250    -4.0900    -0.0250 VS            6 PRT     \\n      67 VS          -0.7250    -4.2900     0.0750 VS            6 PRT     \\n      68 C           -0.0000    -2.8400    -0.0000 C             7 RES     \\n      69 H            1.1000    -2.8400     0.0000 H             7 RES     \\n      70 VS          -0.5750    -2.7900    -0.0250 VS            8 PRT     \\n      71 VS          -0.7750    -2.7900    -0.0250 VS            8 PRT     \\n      72 VS          -0.4750    -2.9900    -0.0250 VS            8 PRT     \\n      73 VS          -0.3750    -2.7900     0.0750 VS            8 PRT     \\n      74 VS          -0.5250    -2.8900    -0.0250 VS            8 PRT     \\n      75 VS          -0.3250    -2.8900    -0.0250 VS            8 PRT     \\n      76 VS          -0.6250    -2.6900    -0.0250 VS            8 PRT     \\n      77 VS          -0.7250    -2.8900     0.0750 VS            8 PRT     \\n      78 C           -0.0000    -1.4400     0.0000 C             9 RES     \\n      79 H            1.1000    -1.4400     0.0000 H             9 RES     \\n      80 VS          -0.5750    -1.3900    -0.0250 VS           10 PRT     \\n      81 VS          -0.7750    -1.3900    -0.0250 VS           10 PRT     \\n      82 VS          -0.4750    -1.5900    -0.0250 VS           10 PRT     \\n      83 VS          -0.3750    -1.3900     0.0750 VS           10 PRT     \\n      84 VS          -0.5250    -1.4900    -0.0250 VS           10 PRT     \\n      85 VS          -0.3250    -1.4900    -0.0250 VS           10 PRT     \\n      86 VS          -0.6250    -1.2900    -0.0250 VS           10 PRT     \\n      87 VS          -0.7250    -1.4900     0.0750 VS           10 PRT     \\n      88 N            0.0000     0.0000     0.0000 N            11 RES     \\n      89 O            1.2160     0.0000     0.0000 O            11 RES     \\n@<TRIPOS>BOND\\n       1       68       58 1\\n       2       18       19 1\\n       3       36       38 1\\n       4       68       69 1\\n       5       42       39 1\\n       6       30       31 1\\n       7       45       47 1\\n       8       15       16 1\\n       9       18       20 1\\n      10       40       39 1\\n      11       33       30 1\\n      12       30       32 1\\n      13       42       43 1\\n      14       88       78 1\\n      15       45       48 1\\n      16       36       33 1\\n      17        1       12 1\\n      18       15       17 1\\n      19       27       29 1\\n      20       45       42 1\\n      21       15       18 1\\n      22       12       15 1\\n      23       48       49 1\\n      24       33       34 1\\n      25       78       79 1\\n      26       36       37 1\\n      27       42       44 1\\n      28       27       30 1\\n      29       21       22 1\\n      30       24       21 1\\n      31        1        3 1\\n      32       27       24 1\\n      33        1        2 1\\n      34       24       26 1\\n      35       58       59 1\\n      36       12       13 1\\n      37       21       18 1\\n      38       48       58 1\\n      39       24       25 1\\n      40       21       23 1\\n      41       33       35 1\\n      42       45       46 1\\n      43       41       39 1\\n      44       12       14 1\\n      45       88       89 1\\n      46       27       28 1\\n      47       36       39 1\\n      48       68       78 1\\n@<TRIPOS>SUBSTRUCTURE\\n       1 RES             1 RESIDUE    0 **** ROOT      1\\n       2 PRT             4 RESIDUE    0 **** ROOT      0\\n       3 RES            12 RESIDUE    0 **** ROOT      2\\n       4 PRT            50 RESIDUE    0 **** ROOT      0\\n       5 RES            58 RESIDUE    0 **** ROOT      2\\n       6 PRT            60 RESIDUE    0 **** ROOT      0\\n       7 RES            68 RESIDUE    0 **** ROOT      2\\n       8 PRT            70 RESIDUE    0 **** ROOT      0\\n       9 RES            78 RESIDUE    0 **** ROOT      2\\n      10 PRT            80 RESIDUE    0 **** ROOT      0\\n      11 RES            88 RESIDUE    0 **** ROOT      1\\n\",\"mol2\");\n\tviewer_15952743839131415.setStyle({\"stick\": {\"radius\": 0.2, \"color\": \"grey\"}, \"sphere\": {\"scale\": 0.3, \"colorscheme\": {}}});\n\tviewer_15952743839131415.zoomTo();\nviewer_15952743839131415.render();\n});\n</script>",
      "text/html": [
       "<div id=\"3dmolviewer_15952743839131415\"  style=\"position: relative; width: 640px; height: 480px\">\n",
       "        <p id=\"3dmolwarning_15952743839131415\" style=\"background-color:#ffcccc;color:black\">You appear to be running in JupyterLab (or JavaScript failed to load for some other reason).  You need to install the 3dmol extension: <br>\n",
       "        <tt>jupyter labextension install jupyterlab_3dmol</tt></p>\n",
       "        </div>\n",
       "<script>\n",
       "\n",
       "var loadScriptAsync = function(uri){\n",
       "  return new Promise((resolve, reject) => {\n",
       "    var tag = document.createElement('script');\n",
       "    tag.src = uri;\n",
       "    tag.async = true;\n",
       "    tag.onload = () => {\n",
       "      resolve();\n",
       "    };\n",
       "  var firstScriptTag = document.getElementsByTagName('script')[0];\n",
       "  firstScriptTag.parentNode.insertBefore(tag, firstScriptTag);\n",
       "});\n",
       "};\n",
       "\n",
       "if(typeof $3Dmolpromise === 'undefined') {\n",
       "$3Dmolpromise = null;\n",
       "  $3Dmolpromise = loadScriptAsync('https://3dmol.csb.pitt.edu/build/3Dmol.js');\n",
       "}\n",
       "\n",
       "var viewer_15952743839131415 = null;\n",
       "var warn = document.getElementById(\"3dmolwarning_15952743839131415\");\n",
       "if(warn) {\n",
       "    warn.parentNode.removeChild(warn);\n",
       "}\n",
       "$3Dmolpromise.then(function() {\n",
       "viewer_15952743839131415 = $3Dmol.createViewer($(\"#3dmolviewer_15952743839131415\"),{backgroundColor:\"white\"});\n",
       "\tviewer_15952743839131415.addModel(\"@<TRIPOS>MOLECULE\\nRES\\n89 48 11 0 1\\nBIOPOLYMER\\nNO_CHARGES\\n@<TRIPOS>CRYSIN\\n    7.3160    28.8400     5.0000    90.0000    90.0000    90.0000  1  1\\n@<TRIPOS>ATOM\\n       1 C           -0.0000   -23.8400    -0.0000 C             1 RES     \\n       2 H           -1.1000   -23.8400    -0.0000 H             1 RES     \\n       3 H            1.1000   -23.8400    -0.0000 H             1 RES     \\n       4 VS          -0.0500   -24.5650    -0.0250 VS            2 PRT     \\n       5 VS          -0.0500   -24.7650    -0.0250 VS            2 PRT     \\n       6 VS           0.1500   -24.4650    -0.0250 VS            2 PRT     \\n       7 VS          -0.0500   -24.3650     0.0750 VS            2 PRT     \\n       8 VS           0.0500   -24.5150    -0.0250 VS            2 PRT     \\n       9 VS           0.0500   -24.3150    -0.0250 VS            2 PRT     \\n      10 VS          -0.1500   -24.6150    -0.0250 VS            2 PRT     \\n      11 VS           0.0500   -24.7150     0.0750 VS            2 PRT     \\n      12 C           -0.0000   -22.4400    -0.0000 C             3 RES     \\n      13 H           -1.1000   -22.4400    -0.0000 H             3 RES     \\n      14 H            1.1000   -22.4400    -0.0000 H             3 RES     \\n      15 C           -0.0000   -21.0400    -0.0000 C             3 RES     \\n      16 H           -1.1000   -21.0400    -0.0000 H             3 RES     \\n      17 H            1.1000   -21.0400    -0.0000 H             3 RES     \\n      18 C           -0.0000   -19.6400    -0.0000 C             3 RES     \\n      19 H           -1.1000   -19.6400    -0.0000 H             3 RES     \\n      20 H            1.1000   -19.6400    -0.0000 H             3 RES     \\n      21 C           -0.0000   -18.2400    -0.0000 C             3 RES     \\n      22 H           -1.1000   -18.2400    -0.0000 H             3 RES     \\n      23 H            1.1000   -18.2400    -0.0000 H             3 RES     \\n      24 C           -0.0000   -16.8400    -0.0000 C             3 RES     \\n      25 H           -1.1000   -16.8400    -0.0000 H             3 RES     \\n      26 H            1.1000   -16.8400    -0.0000 H             3 RES     \\n      27 C           -0.0000   -15.4400    -0.0000 C             3 RES     \\n      28 H           -1.1000   -15.4400    -0.0000 H             3 RES     \\n      29 H            1.1000   -15.4400    -0.0000 H             3 RES     \\n      30 C           -0.0000   -14.0400    -0.0000 C             3 RES     \\n      31 H           -1.1000   -14.0400    -0.0000 H             3 RES     \\n      32 H            1.1000   -14.0400    -0.0000 H             3 RES     \\n      33 C           -0.0000   -12.6400    -0.0000 C             3 RES     \\n      34 H           -1.1000   -12.6400    -0.0000 H             3 RES     \\n      35 H            1.1000   -12.6400    -0.0000 H             3 RES     \\n      36 C           -0.0000   -11.2400    -0.0000 C             3 RES     \\n      37 H           -1.1000   -11.2400    -0.0000 H             3 RES     \\n      38 H            1.1000   -11.2400    -0.0000 H             3 RES     \\n      39 C           -0.0000    -9.8400    -0.0000 C             3 RES     \\n      40 H           -1.1000    -9.8400    -0.0000 H             3 RES     \\n      41 H            1.1000    -9.8400    -0.0000 H             3 RES     \\n      42 C           -0.0000    -8.4400    -0.0000 C             3 RES     \\n      43 H           -1.1000    -8.4400    -0.0000 H             3 RES     \\n      44 H            1.1000    -8.4400    -0.0000 H             3 RES     \\n      45 C           -0.0000    -7.0400    -0.0000 C             3 RES     \\n      46 H           -1.1000    -7.0400    -0.0000 H             3 RES     \\n      47 H            1.1000    -7.0400    -0.0000 H             3 RES     \\n      48 C           -0.0000    -5.6400    -0.0000 C             3 RES     \\n      49 H           -1.1000    -5.6400    -0.0000 H             3 RES     \\n      50 VS           0.5750    -5.6900    -0.0250 VS            4 PRT     \\n      51 VS           0.7750    -5.6900    -0.0250 VS            4 PRT     \\n      52 VS           0.4750    -5.4900    -0.0250 VS            4 PRT     \\n      53 VS           0.3750    -5.6900     0.0750 VS            4 PRT     \\n      54 VS           0.5250    -5.5900    -0.0250 VS            4 PRT     \\n      55 VS           0.3250    -5.5900    -0.0250 VS            4 PRT     \\n      56 VS           0.6250    -5.7900    -0.0250 VS            4 PRT     \\n      57 VS           0.7250    -5.5900     0.0750 VS            4 PRT     \\n      58 C           -0.0000    -4.2400    -0.0000 C             5 RES     \\n      59 H            1.1000    -4.2400    -0.0000 H             5 RES     \\n      60 VS          -0.5750    -4.1900    -0.0250 VS            6 PRT     \\n      61 VS          -0.7750    -4.1900    -0.0250 VS            6 PRT     \\n      62 VS          -0.4750    -4.3900    -0.0250 VS            6 PRT     \\n      63 VS          -0.3750    -4.1900     0.0750 VS            6 PRT     \\n      64 VS          -0.5250    -4.2900    -0.0250 VS            6 PRT     \\n      65 VS          -0.3250    -4.2900    -0.0250 VS            6 PRT     \\n      66 VS          -0.6250    -4.0900    -0.0250 VS            6 PRT     \\n      67 VS          -0.7250    -4.2900     0.0750 VS            6 PRT     \\n      68 C           -0.0000    -2.8400    -0.0000 C             7 RES     \\n      69 H            1.1000    -2.8400     0.0000 H             7 RES     \\n      70 VS          -0.5750    -2.7900    -0.0250 VS            8 PRT     \\n      71 VS          -0.7750    -2.7900    -0.0250 VS            8 PRT     \\n      72 VS          -0.4750    -2.9900    -0.0250 VS            8 PRT     \\n      73 VS          -0.3750    -2.7900     0.0750 VS            8 PRT     \\n      74 VS          -0.5250    -2.8900    -0.0250 VS            8 PRT     \\n      75 VS          -0.3250    -2.8900    -0.0250 VS            8 PRT     \\n      76 VS          -0.6250    -2.6900    -0.0250 VS            8 PRT     \\n      77 VS          -0.7250    -2.8900     0.0750 VS            8 PRT     \\n      78 C           -0.0000    -1.4400     0.0000 C             9 RES     \\n      79 H            1.1000    -1.4400     0.0000 H             9 RES     \\n      80 VS          -0.5750    -1.3900    -0.0250 VS           10 PRT     \\n      81 VS          -0.7750    -1.3900    -0.0250 VS           10 PRT     \\n      82 VS          -0.4750    -1.5900    -0.0250 VS           10 PRT     \\n      83 VS          -0.3750    -1.3900     0.0750 VS           10 PRT     \\n      84 VS          -0.5250    -1.4900    -0.0250 VS           10 PRT     \\n      85 VS          -0.3250    -1.4900    -0.0250 VS           10 PRT     \\n      86 VS          -0.6250    -1.2900    -0.0250 VS           10 PRT     \\n      87 VS          -0.7250    -1.4900     0.0750 VS           10 PRT     \\n      88 N            0.0000     0.0000     0.0000 N            11 RES     \\n      89 O            1.2160     0.0000     0.0000 O            11 RES     \\n@<TRIPOS>BOND\\n       1       68       58 1\\n       2       18       19 1\\n       3       36       38 1\\n       4       68       69 1\\n       5       42       39 1\\n       6       30       31 1\\n       7       45       47 1\\n       8       15       16 1\\n       9       18       20 1\\n      10       40       39 1\\n      11       33       30 1\\n      12       30       32 1\\n      13       42       43 1\\n      14       88       78 1\\n      15       45       48 1\\n      16       36       33 1\\n      17        1       12 1\\n      18       15       17 1\\n      19       27       29 1\\n      20       45       42 1\\n      21       15       18 1\\n      22       12       15 1\\n      23       48       49 1\\n      24       33       34 1\\n      25       78       79 1\\n      26       36       37 1\\n      27       42       44 1\\n      28       27       30 1\\n      29       21       22 1\\n      30       24       21 1\\n      31        1        3 1\\n      32       27       24 1\\n      33        1        2 1\\n      34       24       26 1\\n      35       58       59 1\\n      36       12       13 1\\n      37       21       18 1\\n      38       48       58 1\\n      39       24       25 1\\n      40       21       23 1\\n      41       33       35 1\\n      42       45       46 1\\n      43       41       39 1\\n      44       12       14 1\\n      45       88       89 1\\n      46       27       28 1\\n      47       36       39 1\\n      48       68       78 1\\n@<TRIPOS>SUBSTRUCTURE\\n       1 RES             1 RESIDUE    0 **** ROOT      1\\n       2 PRT             4 RESIDUE    0 **** ROOT      0\\n       3 RES            12 RESIDUE    0 **** ROOT      2\\n       4 PRT            50 RESIDUE    0 **** ROOT      0\\n       5 RES            58 RESIDUE    0 **** ROOT      2\\n       6 PRT            60 RESIDUE    0 **** ROOT      0\\n       7 RES            68 RESIDUE    0 **** ROOT      2\\n       8 PRT            70 RESIDUE    0 **** ROOT      0\\n       9 RES            78 RESIDUE    0 **** ROOT      2\\n      10 PRT            80 RESIDUE    0 **** ROOT      0\\n      11 RES            88 RESIDUE    0 **** ROOT      1\\n\",\"mol2\");\n",
       "\tviewer_15952743839131415.setStyle({\"stick\": {\"radius\": 0.2, \"color\": \"grey\"}, \"sphere\": {\"scale\": 0.3, \"colorscheme\": {}}});\n",
       "\tviewer_15952743839131415.zoomTo();\n",
       "viewer_15952743839131415.render();\n",
       "});\n",
       "</script>"
      ]
     },
     "metadata": {},
     "output_type": "display_data"
    },
    {
     "data": {
      "text/plain": [
       "<py3Dmol.view at 0x7fa07ea3bef0>"
      ]
     },
     "execution_count": 9,
     "metadata": {},
     "output_type": "execute_result"
    }
   ],
   "source": [
    "chain_prototype = Alkylsilane(chain_length=17, terminal_group='nitroso')\n",
    "for i in range(5):\n",
    "    chain_prototype.remove(chain_prototype[-1])\n",
    "chain_prototype.remove(chain_prototype[43])\n",
    "chain_prototype.remove(chain_prototype[41])\n",
    "chain_prototype.remove(chain_prototype[44])\n",
    "chain_prototype.remove(chain_prototype[46])\n",
    "\n",
    "# hydrogen_downcap = H()\n",
    "# chain_prototype.add(hydrogen_downcap, 'hydrogen_downcap')\n",
    "# chain_prototype.available_ports()[0]\n",
    "# mb.force_overlap(hydrogen_downcap, hydrogen_downcap['up'], chain_prototype['silane']['down'])\n",
    "chain_prototype.visualize(show_ports=True)\n"
   ]
  },
  {
   "cell_type": "code",
   "execution_count": 3,
   "metadata": {},
   "outputs": [
    {
     "data": {
      "text/plain": [
       "((3, 2, 4),)"
      ]
     },
     "execution_count": 3,
     "metadata": {},
     "output_type": "execute_result"
    }
   ],
   "source": [
    "Chem.MolFromSmiles('CCCC#C').GetSubstructMatches(Chem.MolFromSmarts('[C;X2](C)#C'))"
   ]
  },
  {
   "cell_type": "code",
   "execution_count": 18,
   "metadata": {},
   "outputs": [
    {
     "name": "stderr",
     "output_type": "stream",
     "text": [
      "RDKit ERROR: [21:16:20] SMARTS Parse Error: syntax error while parsing: [N;X3](H)(H)C\n",
      "RDKit ERROR: [21:16:20] SMARTS Parse Error: Failed parsing SMARTS '[N;X3](H)(H)C' for input: '[N;X3](H)(H)C'\n"
     ]
    },
    {
     "ename": "ArgumentError",
     "evalue": "Python argument types in\n    Mol.GetSubstructMatches(Mol, NoneType)\ndid not match C++ signature:\n    GetSubstructMatches(RDKit::ROMol self, RDKit::MolBundle query, RDKit::SubstructMatchParameters params)\n    GetSubstructMatches(RDKit::ROMol self, RDKit::ROMol query, RDKit::SubstructMatchParameters params)\n    GetSubstructMatches(RDKit::ROMol self, RDKit::MolBundle query, bool uniquify=True, bool useChirality=False, bool useQueryQueryMatches=False, unsigned int maxMatches=1000)\n    GetSubstructMatches(RDKit::ROMol self, RDKit::ROMol query, bool uniquify=True, bool useChirality=False, bool useQueryQueryMatches=False, unsigned int maxMatches=1000)",
     "output_type": "error",
     "traceback": [
      "\u001b[0;31m---------------------------------------------------------------------------\u001b[0m",
      "\u001b[0;31mArgumentError\u001b[0m                             Traceback (most recent call last)",
      "\u001b[0;32m<ipython-input-18-470fba7d19c6>\u001b[0m in \u001b[0;36m<module>\u001b[0;34m\u001b[0m\n\u001b[0;32m----> 1\u001b[0;31m \u001b[0mChem\u001b[0m\u001b[0;34m.\u001b[0m\u001b[0mMolFromSmiles\u001b[0m\u001b[0;34m(\u001b[0m\u001b[0;34m'CCCCN'\u001b[0m\u001b[0;34m)\u001b[0m\u001b[0;34m.\u001b[0m\u001b[0mGetSubstructMatches\u001b[0m\u001b[0;34m(\u001b[0m\u001b[0mChem\u001b[0m\u001b[0;34m.\u001b[0m\u001b[0mMolFromSmarts\u001b[0m\u001b[0;34m(\u001b[0m\u001b[0;34m'[N;X3](H)(H)C'\u001b[0m\u001b[0;34m)\u001b[0m\u001b[0;34m)\u001b[0m\u001b[0;34m\u001b[0m\u001b[0;34m\u001b[0m\u001b[0m\n\u001b[0m",
      "\u001b[0;32m~/miniconda3/envs/simulation36/lib/python3.6/site-packages/rdkit/Chem/Draw/IPythonConsole.py\u001b[0m in \u001b[0;36m_GetSubstructMatches\u001b[0;34m(mol, query, *args, **kwargs)\u001b[0m\n\u001b[1;32m    153\u001b[0m \u001b[0;34m\u001b[0m\u001b[0m\n\u001b[1;32m    154\u001b[0m \u001b[0;32mdef\u001b[0m \u001b[0m_GetSubstructMatches\u001b[0m\u001b[0;34m(\u001b[0m\u001b[0mmol\u001b[0m\u001b[0;34m,\u001b[0m \u001b[0mquery\u001b[0m\u001b[0;34m,\u001b[0m \u001b[0;34m*\u001b[0m\u001b[0margs\u001b[0m\u001b[0;34m,\u001b[0m \u001b[0;34m**\u001b[0m\u001b[0mkwargs\u001b[0m\u001b[0;34m)\u001b[0m\u001b[0;34m:\u001b[0m\u001b[0;34m\u001b[0m\u001b[0;34m\u001b[0m\u001b[0m\n\u001b[0;32m--> 155\u001b[0;31m   \u001b[0mres\u001b[0m \u001b[0;34m=\u001b[0m \u001b[0mmol\u001b[0m\u001b[0;34m.\u001b[0m\u001b[0m__GetSubstructMatches\u001b[0m\u001b[0;34m(\u001b[0m\u001b[0mquery\u001b[0m\u001b[0;34m,\u001b[0m \u001b[0;34m*\u001b[0m\u001b[0margs\u001b[0m\u001b[0;34m,\u001b[0m \u001b[0;34m**\u001b[0m\u001b[0mkwargs\u001b[0m\u001b[0;34m)\u001b[0m\u001b[0;34m\u001b[0m\u001b[0;34m\u001b[0m\u001b[0m\n\u001b[0m\u001b[1;32m    156\u001b[0m   \u001b[0mmol\u001b[0m\u001b[0;34m.\u001b[0m\u001b[0m__sssAtoms\u001b[0m \u001b[0;34m=\u001b[0m \u001b[0;34m[\u001b[0m\u001b[0;34m]\u001b[0m\u001b[0;34m\u001b[0m\u001b[0;34m\u001b[0m\u001b[0m\n\u001b[1;32m    157\u001b[0m   \u001b[0;32mif\u001b[0m \u001b[0mhighlightSubstructs\u001b[0m\u001b[0;34m:\u001b[0m\u001b[0;34m\u001b[0m\u001b[0;34m\u001b[0m\u001b[0m\n",
      "\u001b[0;31mArgumentError\u001b[0m: Python argument types in\n    Mol.GetSubstructMatches(Mol, NoneType)\ndid not match C++ signature:\n    GetSubstructMatches(RDKit::ROMol self, RDKit::MolBundle query, RDKit::SubstructMatchParameters params)\n    GetSubstructMatches(RDKit::ROMol self, RDKit::ROMol query, RDKit::SubstructMatchParameters params)\n    GetSubstructMatches(RDKit::ROMol self, RDKit::MolBundle query, bool uniquify=True, bool useChirality=False, bool useQueryQueryMatches=False, unsigned int maxMatches=1000)\n    GetSubstructMatches(RDKit::ROMol self, RDKit::ROMol query, bool uniquify=True, bool useChirality=False, bool useQueryQueryMatches=False, unsigned int maxMatches=1000)"
     ]
    }
   ],
   "source": [
    "Chem.MolFromSmiles('CCCCN').GetSubstructMatches(Chem.MolFromSmarts('[N;X3](H)(H)C'))"
   ]
  },
  {
   "cell_type": "code",
   "execution_count": 2,
   "metadata": {},
   "outputs": [
    {
     "ename": "DocumentInvalid",
     "evalue": "Element 'Residues': This element is not expected., line 16",
     "output_type": "error",
     "traceback": [
      "\u001b[0;31m---------------------------------------------------------------------------\u001b[0m",
      "\u001b[0;31mDocumentInvalid\u001b[0m                           Traceback (most recent call last)",
      "\u001b[0;32m<ipython-input-2-3a6128403bd4>\u001b[0m in \u001b[0;36m<module>\u001b[0;34m\u001b[0m\n\u001b[0;32m----> 1\u001b[0;31m \u001b[0mff_CCC_nitroso\u001b[0m \u001b[0;34m=\u001b[0m \u001b[0mfoyer\u001b[0m\u001b[0;34m.\u001b[0m\u001b[0mForcefield\u001b[0m\u001b[0;34m(\u001b[0m\u001b[0mforcefield_files\u001b[0m\u001b[0;34m=\u001b[0m\u001b[0;34m'CCCnitroso.xml'\u001b[0m\u001b[0;34m)\u001b[0m\u001b[0;34m\u001b[0m\u001b[0;34m\u001b[0m\u001b[0m\n\u001b[0m",
      "\u001b[0;32m~/miniconda3/envs/simulation36/lib/python3.6/site-packages/foyer/forcefield.py\u001b[0m in \u001b[0;36m__init__\u001b[0;34m(self, forcefield_files, name, validation, debug)\u001b[0m\n\u001b[1;32m    363\u001b[0m         \u001b[0;32mif\u001b[0m \u001b[0mvalidation\u001b[0m\u001b[0;34m:\u001b[0m\u001b[0;34m\u001b[0m\u001b[0;34m\u001b[0m\u001b[0m\n\u001b[1;32m    364\u001b[0m             \u001b[0;32mfor\u001b[0m \u001b[0mff_file_name\u001b[0m \u001b[0;32min\u001b[0m \u001b[0mpreprocessed_files\u001b[0m\u001b[0;34m:\u001b[0m\u001b[0;34m\u001b[0m\u001b[0;34m\u001b[0m\u001b[0m\n\u001b[0;32m--> 365\u001b[0;31m                 \u001b[0mValidator\u001b[0m\u001b[0;34m(\u001b[0m\u001b[0mff_file_name\u001b[0m\u001b[0;34m,\u001b[0m \u001b[0mdebug\u001b[0m\u001b[0;34m)\u001b[0m\u001b[0;34m\u001b[0m\u001b[0;34m\u001b[0m\u001b[0m\n\u001b[0m\u001b[1;32m    366\u001b[0m         \u001b[0;32mtry\u001b[0m\u001b[0;34m:\u001b[0m\u001b[0;34m\u001b[0m\u001b[0;34m\u001b[0m\u001b[0m\n\u001b[1;32m    367\u001b[0m             \u001b[0msuper\u001b[0m\u001b[0;34m(\u001b[0m\u001b[0mForcefield\u001b[0m\u001b[0;34m,\u001b[0m \u001b[0mself\u001b[0m\u001b[0;34m)\u001b[0m\u001b[0;34m.\u001b[0m\u001b[0m__init__\u001b[0m\u001b[0;34m(\u001b[0m\u001b[0;34m*\u001b[0m\u001b[0mpreprocessed_files\u001b[0m\u001b[0;34m)\u001b[0m\u001b[0;34m\u001b[0m\u001b[0;34m\u001b[0m\u001b[0m\n",
      "\u001b[0;32m~/miniconda3/envs/simulation36/lib/python3.6/site-packages/foyer/validator.py\u001b[0m in \u001b[0;36m__init__\u001b[0;34m(self, ff_file_name, debug)\u001b[0m\n\u001b[1;32m     21\u001b[0m \u001b[0;34m\u001b[0m\u001b[0m\n\u001b[1;32m     22\u001b[0m             \u001b[0mff_tree\u001b[0m \u001b[0;34m=\u001b[0m \u001b[0metree\u001b[0m\u001b[0;34m.\u001b[0m\u001b[0mparse\u001b[0m\u001b[0;34m(\u001b[0m\u001b[0mpreprocessed_ff_file_name\u001b[0m\u001b[0;34m[\u001b[0m\u001b[0;36m0\u001b[0m\u001b[0;34m]\u001b[0m\u001b[0;34m)\u001b[0m\u001b[0;34m\u001b[0m\u001b[0;34m\u001b[0m\u001b[0m\n\u001b[0;32m---> 23\u001b[0;31m             \u001b[0mself\u001b[0m\u001b[0;34m.\u001b[0m\u001b[0mvalidate_xsd\u001b[0m\u001b[0;34m(\u001b[0m\u001b[0mff_tree\u001b[0m\u001b[0;34m)\u001b[0m\u001b[0;34m\u001b[0m\u001b[0;34m\u001b[0m\u001b[0m\n\u001b[0m\u001b[1;32m     24\u001b[0m \u001b[0;34m\u001b[0m\u001b[0m\n\u001b[1;32m     25\u001b[0m             \u001b[0mself\u001b[0m\u001b[0;34m.\u001b[0m\u001b[0matom_type_names\u001b[0m \u001b[0;34m=\u001b[0m \u001b[0mff_tree\u001b[0m\u001b[0;34m.\u001b[0m\u001b[0mxpath\u001b[0m\u001b[0;34m(\u001b[0m\u001b[0;34m'/ForceField/AtomTypes/Type/@name'\u001b[0m\u001b[0;34m)\u001b[0m\u001b[0;34m\u001b[0m\u001b[0;34m\u001b[0m\u001b[0m\n",
      "\u001b[0;32m~/miniconda3/envs/simulation36/lib/python3.6/site-packages/foyer/validator.py\u001b[0m in \u001b[0;36mvalidate_xsd\u001b[0;34m(ff_tree, xsd_file)\u001b[0m\n\u001b[1;32m     63\u001b[0m \u001b[0;34m\u001b[0m\u001b[0m\n\u001b[1;32m     64\u001b[0m         \u001b[0;32mtry\u001b[0m\u001b[0;34m:\u001b[0m\u001b[0;34m\u001b[0m\u001b[0;34m\u001b[0m\u001b[0m\n\u001b[0;32m---> 65\u001b[0;31m             \u001b[0mxmlschema\u001b[0m\u001b[0;34m.\u001b[0m\u001b[0massertValid\u001b[0m\u001b[0;34m(\u001b[0m\u001b[0mff_tree\u001b[0m\u001b[0;34m)\u001b[0m\u001b[0;34m\u001b[0m\u001b[0;34m\u001b[0m\u001b[0m\n\u001b[0m\u001b[1;32m     66\u001b[0m         \u001b[0;32mexcept\u001b[0m \u001b[0mDocumentInvalid\u001b[0m \u001b[0;32mas\u001b[0m \u001b[0mex\u001b[0m\u001b[0;34m:\u001b[0m\u001b[0;34m\u001b[0m\u001b[0;34m\u001b[0m\u001b[0m\n\u001b[1;32m     67\u001b[0m             \u001b[0mmessage\u001b[0m \u001b[0;34m=\u001b[0m \u001b[0mex\u001b[0m\u001b[0;34m.\u001b[0m\u001b[0merror_log\u001b[0m\u001b[0;34m.\u001b[0m\u001b[0mlast_error\u001b[0m\u001b[0;34m.\u001b[0m\u001b[0mmessage\u001b[0m\u001b[0;34m\u001b[0m\u001b[0;34m\u001b[0m\u001b[0m\n",
      "\u001b[0;32msrc/lxml/etree.pyx\u001b[0m in \u001b[0;36mlxml.etree._Validator.assertValid\u001b[0;34m()\u001b[0m\n",
      "\u001b[0;31mDocumentInvalid\u001b[0m: Element 'Residues': This element is not expected., line 16"
     ]
    }
   ],
   "source": [
    "ff_CCC_nitroso = foyer.Forcefield(forcefield_files='CCCnitroso.xml')\n"
   ]
  },
  {
   "cell_type": "code",
   "execution_count": null,
   "metadata": {},
   "outputs": [],
   "source": []
  }
 ],
 "metadata": {
  "kernelspec": {
   "display_name": "Python 3",
   "language": "python",
   "name": "python3"
  },
  "language_info": {
   "codemirror_mode": {
    "name": "ipython",
    "version": 3
   },
   "file_extension": ".py",
   "mimetype": "text/x-python",
   "name": "python",
   "nbconvert_exporter": "python",
   "pygments_lexer": "ipython3",
   "version": "3.7.6"
  }
 },
 "nbformat": 4,
 "nbformat_minor": 4
}
